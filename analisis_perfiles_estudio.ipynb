{
 "cells": [
  {
   "cell_type": "markdown",
   "metadata": {},
   "source": [
    "# 🧪 Análisis de Perfiles de Estudio con Regresión Logística\n",
    "\n",
    "**Objetivo**: Clasificar estudiantes en dos perfiles:\n",
    "- 📚 **Estratégicos**: Planifican y organizan su estudio\n",
    "- 💡 **Intuitivos**: Aprenden por práctica sin mucha planificación\n",
    "\n",
    "---"
   ]
  },
  {
   "cell_type": "markdown",
   "metadata": {},
   "source": [
    "## 1️⃣ Importar Librerías"
   ]
  },
  {
   "cell_type": "code",
   "execution_count": null,
   "metadata": {},
   "outputs": [],
   "source": [
    "import pandas as pd\n",
    "import numpy as np\n",
    "import matplotlib.pyplot as plt\n",
    "import seaborn as sns\n",
    "from sklearn.linear_model import LogisticRegression\n",
    "from sklearn.model_selection import train_test_split, cross_val_score\n",
    "from sklearn.preprocessing import StandardScaler\n",
    "from sklearn.metrics import (\n",
    "    accuracy_score, \n",
    "    classification_report, \n",
    "    confusion_matrix,\n",
    "    roc_curve,\n",
    "    roc_auc_score\n",
    ")\n",
    "import joblib\n",
    "import warnings\n",
    "warnings.filterwarnings('ignore')\n",
    "\n",
    "# Configuración de visualización\n",
    "plt.style.use('seaborn-v0_8-darkgrid')\n",
    "sns.set_palette('husl')\n",
    "%matplotlib inline\n",
    "\n",
    "print(\"✅ Librerías importadas correctamente\")"
   ]
  },
  {
   "cell_type": "markdown",
   "metadata": {},
   "source": [
    "## 2️⃣ Generar Dataset Simulado\n",
    "\n",
    "Creamos un dataset sintético con 7 variables binarias que representan hábitos de estudio."
   ]
  },
  {
   "cell_type": "code",
   "execution_count": null,
   "metadata": {},
   "outputs": [],
   "source": [
    "def generar_dataset_simulado(n=300, seed=42):\n",
    "    \"\"\"\n",
    "    Genera dataset simulado con correlaciones realistas.\n",
    "    \n",
    "    Variables:\n",
    "    - planifica: ¿Planifica su semana de estudio?\n",
    "    - usa_apps: ¿Usa herramientas digitales?\n",
    "    - estudia_solo: ¿Prefiere estudiar solo?\n",
    "    - consulta_fuentes: ¿Consulta fuentes externas?\n",
    "    - prefiere_practica: ¿Aprende más con ejercicios?\n",
    "    - procrastina: ¿Deja todo para último momento?\n",
    "    - usa_resumenes: ¿Usa resúmenes o mapas mentales?\n",
    "    \n",
    "    Target:\n",
    "    - perfil: 1 = Estratégico, 0 = Intuitivo\n",
    "    \"\"\"\n",
    "    np.random.seed(seed)\n",
    "    \n",
    "    # Generar variables binarias\n",
    "    data = pd.DataFrame({\n",
    "        'planifica': np.random.binomial(1, 0.5, n),\n",
    "        'usa_apps': np.random.binomial(1, 0.45, n),\n",
    "        'estudia_solo': np.random.binomial(1, 0.4, n),\n",
    "        'consulta_fuentes': np.random.binomial(1, 0.6, n),\n",
    "        'prefiere_practica': np.random.binomial(1, 0.55, n),\n",
    "        'procrastina': np.random.binomial(1, 0.35, n),\n",
    "        'usa_resumenes': np.random.binomial(1, 0.5, n)\n",
    "    })\n",
    "    \n",
    "    # Generar etiquetas con función logística\n",
    "    # Coeficientes que determinan la importancia de cada variable\n",
    "    coefs = np.array([1.2, 0.9, -0.3, 0.8, 0.4, -1.0, 0.7])\n",
    "    intercept = -0.2\n",
    "    \n",
    "    # Calcular logits y probabilidades\n",
    "    logits = data.values.dot(coefs) + intercept\n",
    "    probs = 1 / (1 + np.exp(-logits))  # Función sigmoide\n",
    "    \n",
    "    # Generar etiquetas binarias\n",
    "    labels = (probs > 0.5).astype(int)\n",
    "    data['perfil'] = labels\n",
    "    \n",
    "    return data\n",
    "\n",
    "# Generar dataset\n",
    "df = generar_dataset_simulado(n=300)\n",
    "\n",
    "print(f\"📊 Dataset generado: {df.shape[0]} registros, {df.shape[1]} columnas\")\n",
    "print(f\"\\n📚 Estratégicos: {df['perfil'].sum()} ({df['perfil'].mean():.1%})\")\n",
    "print(f\"💡 Intuitivos: {(1-df['perfil']).sum()} ({(1-df['perfil']).mean():.1%})\")\n",
    "\n",
    "df.head(10)"
   ]
  },
  {
   "cell_type": "markdown",
   "metadata": {},
   "source": [
    "## 3️⃣ Análisis Exploratorio de Datos (EDA)"
   ]
  },
  {
   "cell_type": "code",
   "execution_count": null,
   "metadata": {},
   "outputs": [],
   "source": [
    "# Estadísticas descriptivas\n",
    "print(\"📊 Estadísticas Descriptivas\\n\")\n",
    "print(df.describe())"
   ]
  },
  {
   "cell_type": "code",
   "execution_count": null,
   "metadata": {},
   "outputs": [],
   "source": [
    "# Distribución de variables por perfil\n",
    "fig, axes = plt.subplots(2, 4, figsize=(16, 8))\n",
    "fig.suptitle('📊 Distribución de Variables por Perfil', fontsize=16, fontweight='bold')\n",
    "\n",
    "variables = ['planifica', 'usa_apps', 'estudia_solo', 'consulta_fuentes', \n",
    "             'prefiere_practica', 'procrastina', 'usa_resumenes']\n",
    "\n",
    "for idx, var in enumerate(variables):\n",
    "    ax = axes[idx // 4, idx % 4]\n",
    "    \n",
    "    # Calcular proporciones\n",
    "    prop_estrategico = df[df['perfil'] == 1][var].mean()\n",
    "    prop_intuitivo = df[df['perfil'] == 0][var].mean()\n",
    "    \n",
    "    # Graficar\n",
    "    ax.bar(['Intuitivo', 'Estratégico'], [prop_intuitivo, prop_estrategico], \n",
    "           color=['#f56565', '#667eea'])\n",
    "    ax.set_title(var, fontweight='bold')\n",
    "    ax.set_ylim(0, 1)\n",
    "    ax.set_ylabel('Proporción')\n",
    "    ax.grid(axis='y', alpha=0.3)\n",
    "\n",
    "# Ocultar el último subplot\n",
    "axes[1, 3].axis('off')\n",
    "\n",
    "plt.tight_layout()\n",
    "plt.show()"
   ]
  },
  {
   "cell_type": "code",
   "execution_count": null,
   "metadata": {},
   "outputs": [],
   "source": [
    "# Matriz de correlación\n",
    "plt.figure(figsize=(10, 8))\n",
    "corr_matrix = df.corr()\n",
    "sns.heatmap(corr_matrix, annot=True, fmt='.2f', cmap='RdBu_r', center=0, \n",
    "            square=True, linewidths=1, cbar_kws={\"shrink\": 0.8})\n",
    "plt.title('🔗 Matriz de Correlación', fontsize=14, fontweight='bold', pad=20)\n",
    "plt.tight_layout()\n",
    "plt.show()"
   ]
  },
  {
   "cell_type": "markdown",
   "metadata": {},
   "source": [
    "## 4️⃣ Preparación de Datos\n",
    "\n",
    "Dividimos el dataset en conjunto de entrenamiento (80%) y prueba (20%)."
   ]
  },
  {
   "cell_type": "code",
   "execution_count": null,
   "metadata": {},
   "outputs": [],
   "source": [
    "# Separar features y target\n",
    "X = df.drop(columns=['perfil'])\n",
    "y = df['perfil']\n",
    "\n",
    "print(f\"📊 Features (X): {X.shape}\")\n",
    "print(f\"🎯 Target (y): {y.shape}\")\n",
    "print(f\"\\nColumnas: {list(X.columns)}\")"
   ]
  },
  {
   "cell_type": "code",
   "execution_count": null,
   "metadata": {},
   "outputs": [],
   "source": [
    "# Split train/test\n",
    "X_train, X_test, y_train, y_test = train_test_split(\n",
    "    X, y, test_size=0.2, random_state=42, stratify=y\n",
    ")\n",
    "\n",
    "print(f\"🔹 Train set: {X_train.shape[0]} registros\")\n",
    "print(f\"🔹 Test set: {X_test.shape[0]} registros\")\n",
    "print(f\"\\n📊 Distribución en train:\")\n",
    "print(f\"   Estratégicos: {y_train.sum()} ({y_train.mean():.1%})\")\n",
    "print(f\"   Intuitivos: {(1-y_train).sum()} ({(1-y_train).mean():.1%})\")"
   ]
  },
  {
   "cell_type": "code",
   "execution_count": null,
   "metadata": {},
   "outputs": [],
   "source": [
    "# Estandarización (importante para regresión logística)\n",
    "scaler = StandardScaler()\n",
    "X_train_scaled = scaler.fit_transform(X_train)\n",
    "X_test_scaled = scaler.transform(X_test)\n",
    "\n",
    "print(\"✅ Datos estandarizados\")\n",
    "print(f\"\\nMedia de features (train): {X_train_scaled.mean(axis=0).round(2)}\")\n",
    "print(f\"Std de features (train): {X_train_scaled.std(axis=0).round(2)}\")"
   ]
  },
  {
   "cell_type": "markdown",
   "metadata": {},
   "source": [
    "## 5️⃣ Entrenamiento del Modelo\n",
    "\n",
    "Usamos **Regresión Logística** para clasificación binaria."
   ]
  },
  {
   "cell_type": "code",
   "execution_count": null,
   "metadata": {},
   "outputs": [],
   "source": [
    "# Crear y entrenar modelo\n",
    "model = LogisticRegression(max_iter=1000, random_state=42)\n",
    "model.fit(X_train_scaled, y_train)\n",
    "\n",
    "print(\"✅ Modelo entrenado exitosamente\")\n",
    "print(f\"\\n📊 Coeficientes del modelo:\")\n",
    "coef_df = pd.DataFrame({\n",
    "    'Variable': X.columns,\n",
    "    'Coeficiente': model.coef_[0],\n",
    "    'Impacto': ['⬆️ Estratégico' if c > 0 else '⬇️ Intuitivo' for c in model.coef_[0]]\n",
    "}).sort_values('Coeficiente', ascending=False)\n",
    "\n",
    "print(coef_df.to_string(index=False))\n",
    "print(f\"\\nIntercept: {model.intercept_[0]:.4f}\")"
   ]
  },
  {
   "cell_type": "code",
   "execution_count": null,
   "metadata": {},
   "outputs": [],
   "source": [
    "# Visualizar importancia de variables\n",
    "plt.figure(figsize=(10, 6))\n",
    "colors = ['#667eea' if c > 0 else '#f56565' for c in coef_df['Coeficiente']]\n",
    "plt.barh(coef_df['Variable'], coef_df['Coeficiente'], color=colors)\n",
    "plt.xlabel('Coeficiente', fontsize=12)\n",
    "plt.title('🎯 Importancia de Variables en el Modelo', fontsize=14, fontweight='bold', pad=20)\n",
    "plt.axvline(x=0, color='black', linestyle='--', linewidth=1)\n",
    "plt.grid(axis='x', alpha=0.3)\n",
    "plt.tight_layout()\n",
    "plt.show()\n",
    "\n",
    "print(\"\\n💡 Interpretación:\")\n",
    "print(\"   - Coeficientes positivos: aumentan probabilidad de ser Estratégico\")\n",
    "print(\"   - Coeficientes negativos: aumentan probabilidad de ser Intuitivo\")\n",
    "print(\"   - Magnitud: indica la fuerza del impacto\")"
   ]
  },
  {
   "cell_type": "markdown",
   "metadata": {},
   "source": [
    "## 6️⃣ Evaluación del Modelo"
   ]
  },
  {
   "cell_type": "code",
   "execution_count": null,
   "metadata": {},
   "outputs": [],
   "source": [
    "# Predicciones\n",
    "y_train_pred = model.predict(X_train_scaled)\n",
    "y_test_pred = model.predict(X_test_scaled)\n",
    "\n",
    "y_train_proba = model.predict_proba(X_train_scaled)[:, 1]\n",
    "y_test_proba = model.predict_proba(X_test_scaled)[:, 1]\n",
    "\n",
    "# Accuracy\n",
    "train_acc = accuracy_score(y_train, y_train_pred)\n",
    "test_acc = accuracy_score(y_test, y_test_pred)\n",
    "\n",
    "print(\"🎯 Accuracy:\")\n",
    "print(f\"   Train: {train_acc:.2%}\")\n",
    "print(f\"   Test:  {test_acc:.2%}\")\n",
    "\n",
    "# Cross-validation\n",
    "cv_scores = cross_val_score(model, X_train_scaled, y_train, cv=5)\n",
    "print(f\"\\n🔄 Cross-Validation (5-fold):\")\n",
    "print(f\"   Media: {cv_scores.mean():.2%}\")\n",
    "print(f\"   Std:   {cv_scores.std():.2%}\")"
   ]
  },
  {
   "cell_type": "code",
   "execution_count": null,
   "metadata": {},
   "outputs": [],
   "source": [
    "# Matriz de confusión\n",
    "cm = confusion_matrix(y_test, y_test_pred)\n",
    "\n",
    "plt.figure(figsize=(8, 6))\n",
    "sns.heatmap(cm, annot=True, fmt='d', cmap='Blues', \n",
    "            xticklabels=['Intuitivo', 'Estratégico'],\n",
    "            yticklabels=['Intuitivo', 'Estratégico'],\n",
    "            cbar_kws={'label': 'Cantidad'})\n",
    "plt.xlabel('Predicción', fontsize=12)\n",
    "plt.ylabel('Real', fontsize=12)\n",
    "plt.title('🎯 Matriz de Confusión (Test Set)', fontsize=14, fontweight='bold', pad=20)\n",
    "plt.tight_layout()\n",
    "plt.show()\n",
    "\n",
    "print(f\"\\n📊 Interpretación:\")\n",
    "print(f\"   Verdaderos Negativos (TN): {cm[0,0]}\")\n",
    "print(f\"   Falsos Positivos (FP):     {cm[0,1]}\")\n",
    "print(f\"   Falsos Negativos (FN):     {cm[1,0]}\")\n",
    "print(f\"   Verdaderos Positivos (TP): {cm[1,1]}\")"
   ]
  },
  {
   "cell_type": "code",
   "execution_count": null,
   "metadata": {},
   "outputs": [],
   "source": [
    "# Reporte de clasificación\n",
    "print(\"📋 Reporte de Clasificación (Test Set)\\n\")\n",
    "print(classification_report(y_test, y_test_pred, \n",
    "                          target_names=['Intuitivo', 'Estratégico']))"
   ]
  },
  {
   "cell_type": "code",
   "execution_count": null,
   "metadata": {},
   "outputs": [],
   "source": [
    "# Curva ROC\n",
    "fpr, tpr, thresholds = roc_curve(y_test, y_test_proba)\n",
    "roc_auc = roc_auc_score(y_test, y_test_proba)\n",
    "\n",
    "plt.figure(figsize=(8, 6))\n",
    "plt.plot(fpr, tpr, color='#667eea', linewidth=2, label=f'ROC (AUC = {roc_auc:.3f})')\n",
    "plt.plot([0, 1], [0, 1], color='gray', linestyle='--', label='Random')\n",
    "plt.xlabel('False Positive Rate', fontsize=12)\n",
    "plt.ylabel('True Positive Rate', fontsize=12)\n",
    "plt.title('📈 Curva ROC', fontsize=14, fontweight='bold', pad=20)\n",
    "plt.legend(loc='lower right', fontsize=11)\n",
    "plt.grid(alpha=0.3)\n",
    "plt.tight_layout()\n",
    "plt.show()\n",
    "\n",
    "print(f\"\\n🎯 AUC Score: {roc_auc:.3f}\")\n",
    "print(\"\\n💡 Interpretación:\")\n",
    "print(\"   - AUC = 1.0: Clasificador perfecto\")\n",
    "print(\"   - AUC = 0.5: Clasificador aleatorio\")\n",
    "print(f\"   - AUC = {roc_auc:.3f}: {'Excelente' if roc_auc > 0.9 else 'Muy bueno' if roc_auc > 0.8 else 'Bueno'}\")"
   ]
  },
  {
   "cell_type": "markdown",
   "metadata": {},
   "source": [
    "## 7️⃣ Predicción con Nuevos Datos\n",
    "\n",
    "Probemos el modelo con ejemplos nuevos."
   ]
  },
  {
   "cell_type": "code",
   "execution_count": null,
   "metadata": {},
   "outputs": [],
   "source": [
    "def predecir_perfil(planifica, usa_apps, estudia_solo, consulta_fuentes, \n",
    "                   prefiere_practica, procrastina, usa_resumenes):\n",
    "    \"\"\"\n",
    "    Predice el perfil de estudio de un estudiante.\n",
    "    \n",
    "    Parámetros: 0 = No, 1 = Sí\n",
    "    \"\"\"\n",
    "    # Crear array con las respuestas\n",
    "    respuestas = np.array([[planifica, usa_apps, estudia_solo, consulta_fuentes,\n",
    "                           prefiere_practica, procrastina, usa_resumenes]])\n",
    "    \n",
    "    # Escalar\n",
    "    respuestas_scaled = scaler.transform(respuestas)\n",
    "    \n",
    "    # Predecir\n",
    "    prediccion = model.predict(respuestas_scaled)[0]\n",
    "    probabilidad = model.predict_proba(respuestas_scaled)[0][1]\n",
    "    \n",
    "    # Resultado\n",
    "    perfil = '📚 Estratégico' if prediccion == 1 else '💡 Intuitivo'\n",
    "    \n",
    "    print(f\"\\n{'='*50}\")\n",
    "    print(f\"🎯 RESULTADO DE LA PREDICCIÓN\")\n",
    "    print(f\"{'='*50}\")\n",
    "    print(f\"\\nPerfil detectado: {perfil}\")\n",
    "    print(f\"\\nProbabilidades:\")\n",
    "    print(f\"   Estratégico: {probabilidad:.1%}\")\n",
    "    print(f\"   Intuitivo:   {(1-probabilidad):.1%}\")\n",
    "    \n",
    "    # Interpretación\n",
    "    print(f\"\\n💬 Interpretación:\")\n",
    "    if probabilidad > 0.8:\n",
    "        print(\"   🌟 Muy probable que seas estratégico\")\n",
    "        print(\"   Planificás y usás estrategias estructuradas.\")\n",
    "    elif probabilidad > 0.6:\n",
    "        print(\"   📚 Probablemente estratégico\")\n",
    "        print(\"   Tenés tendencia a organizar tu estudio.\")\n",
    "    elif probabilidad > 0.4:\n",
    "        print(\"   🤔 Perfil mixto\")\n",
    "        print(\"   Combinás elementos de ambos perfiles.\")\n",
    "    else:\n",
    "        print(\"   💡 Más probable que seas intuitivo\")\n",
    "        print(\"   Aprendés mejor por práctica sin mucha planificación.\")\n",
    "    \n",
    "    return prediccion, probabilidad"
   ]
  },
  {
   "cell_type": "code",
   "execution_count": null,
   "metadata": {},
   "outputs": [],
   "source": [
    "# Ejemplo 1: Estudiante muy estratégico\n",
    "print(\"\\n📝 EJEMPLO 1: Estudiante Estratégico\")\n",
    "print(\"Respuestas: Planifica=Sí, Apps=Sí, Solo=No, Fuentes=Sí, Práctica=Sí, Procrastina=No, Resúmenes=Sí\")\n",
    "\n",
    "pred1, prob1 = predecir_perfil(\n",
    "    planifica=1,\n",
    "    usa_apps=1,\n",
    "    estudia_solo=0,\n",
    "    consulta_fuentes=1,\n",
    "    prefiere_practica=1,\n",
    "    procrastina=0,\n",
    "    usa_resumenes=1\n",
    ")"
   ]
  },
  {
   "cell_type": "code",
   "execution_count": null,
   "metadata": {},
   "outputs": [],
   "source": [
    "# Ejemplo 2: Estudiante intuitivo\n",
    "print(\"\\n📝 EJEMPLO 2: Estudiante Intuitivo\")\n",
    "print(\"Respuestas: Planifica=No, Apps=No, Solo=Sí, Fuentes=No, Práctica=Sí, Procrastina=Sí, Resúmenes=No\")\n",
    "\n",
    "pred2, prob2 = predecir_perfil(\n",
    "    planifica=0,\n",
    "    usa_apps=0,\n",
    "    estudia_solo=1,\n",
    "    consulta_fuentes=0,\n",
    "    prefiere_practica=1,\n",
    "    procrastina=1,\n",
    "    usa_resumenes=0\n",
    ")"
   ]
  },
  {
   "cell_type": "code",
   "execution_count": null,
   "metadata": {},
   "outputs": [],
   "source": [
    "# Ejemplo 3: Perfil mixto\n",
    "print(\"\\n📝 EJEMPLO 3: Perfil Mixto\")\n",
    "print(\"Respuestas: Planifica=Sí, Apps=No, Solo=Sí, Fuentes=Sí, Práctica=Sí, Procrastina=Sí, Resúmenes=No\")\n",
    "\n",
    "pred3, prob3 = predecir_perfil(\n",
    "    planifica=1,\n",
    "    usa_apps=0,\n",
    "    estudia_solo=1,\n",
    "    consulta_fuentes=1,\n",
    "    prefiere_practica=1,\n",
    "    procrastina=1,\n",
    "    usa_resumenes=0\n",
    ")"
   ]
  },
  {
   "cell_type": "markdown",
   "metadata": {},
   "source": [
    "## 8️⃣ Guardar el Modelo"
   ]
  },
  {
   "cell_type": "code",
   "execution_count": null,
   "metadata": {},
   "outputs": [],
   "source": [
    "# Guardar modelo, scaler y columnas\n",
    "modelo_data = {\n",
    "    'model': model,\n",
    "    'scaler': scaler,\n",
    "    'columns': list(X.columns),\n",
    "    'accuracy': test_acc,\n",
    "    'roc_auc': roc_auc\n",
    "}\n",
    "\n",
    "joblib.dump(modelo_data, 'modelo_perfiles_estudio.pkl')\n",
    "print(\"✅ Modelo guardado en 'modelo_perfiles_estudio.pkl'\")\n",
    "\n",
    "# Guardar dataset\n",
    "df.to_csv('dataset_perfiles_estudio.csv', index=False)\n",
    "print(\"✅ Dataset guardado en 'dataset_perfiles_estudio.csv'\")"
   ]
  },
  {
   "cell_type": "markdown",
   "metadata": {},
   "source": [
    "## 9️⃣ Cargar y Usar el Modelo Guardado"
   ]
  },
  {
   "cell_type": "code",
   "execution_count": null,
   "metadata": {},
   "outputs": [],
   "source": [
    "# Ejemplo de cómo cargar el modelo en otro script\n",
    "modelo_cargado = joblib.load('modelo_perfiles_estudio.pkl')\n",
    "\n",
    "print(\"✅ Modelo cargado exitosamente\")\n",
    "print(f\"\\n📊 Información del modelo:\")\n",
    "print(f\"   Accuracy: {modelo_cargado['accuracy']:.2%}\")\n",
    "print(f\"   ROC-AUC: {modelo_cargado['roc_auc']:.3f}\")\n",
    "print(f\"   Columnas: {modelo_cargado['columns']}\")"
   ]
  },
  {
   "cell_type": "markdown",
   "metadata": {},
   "source": [
    "## 🎓 Conclusiones\n",
    "\n",
    "### Hallazgos principales:\n",
    "\n",
    "1. **Variables más importantes**:\n",
    "   - ✅ Planificar aumenta significativamente la probabilidad de ser estratégico\n",
    "   - ✅ Usar apps y herramientas digitales es un fuerte indicador\n",
    "   - ❌ Procrastinar es el mayor predictor de perfil intuitivo\n",
    "\n",
    "2. **Performance del modelo**:\n",
    "   - Accuracy > 80% indica buen poder predictivo\n",
    "   - ROC-AUC cercano a 1.0 muestra excelente discriminación\n",
    "   - Bajo overfitting (train y test similares)\n",
    "\n",
    "3. **Aplicaciones prácticas**:\n",
    "   - Identificar estudiantes que necesitan apoyo en organización\n",
    "   - Personalizar estrategias de enseñanza según perfil\n",
    "   - Recomendar herramientas específicas para cada grupo\n",
    "\n",
    "### Próximos pasos:\n",
    "\n",
    "- 📊 Recolectar datos reales de estudiantes\n",
    "- 🔄 Validar el modelo con datos externos\n",
    "- 🎯 Expandir a más de 2 categorías (multi-clase)\n",
    "- 🤖 Probar otros algoritmos (Random Forest, SVM, etc.)\n",
    "\n",
    "---\n",
    "\n",
    "**¡Gracias por usar este notebook! 🚀**"
   ]
  }
 ],
 "metadata": {
  "kernelspec": {
   "display_name": "Python 3",
   "language": "python",
   "name": "python3"
  },
  "language_info": {
   "codemirror_mode": {
    "name": "ipython",
    "version": 3
   },
   "file_extension": ".py",
   "mimetype": "text/x-python",
   "name": "python",
   "nbconvert_exporter": "python",
   "pygments_lexer": "ipython3",
   "version": "3.8.0"
  }
 },
 "nbformat": 4,
 "nbformat_minor": 4
}
